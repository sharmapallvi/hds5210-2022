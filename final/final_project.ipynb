{
 "cells": [
  {
   "cell_type": "code",
   "execution_count": 1,
   "metadata": {},
   "outputs": [],
   "source": [
    "import pandas as pd"
   ]
  },
  {
   "cell_type": "markdown",
   "metadata": {},
   "source": [
    "# **NADAC Data Analysis**"
   ]
  },
  {
   "cell_type": "code",
   "execution_count": 2,
   "metadata": {},
   "outputs": [],
   "source": [
    "# Get NADAC data from source csv file\n",
    "nadacData = pd.read_csv('nadac-national-average-drug-acquisition-cost-02-23-2022.csv')"
   ]
  },
  {
   "cell_type": "code",
   "execution_count": 3,
   "metadata": {},
   "outputs": [
    {
     "data": {
      "text/html": [
       "<div>\n",
       "<style scoped>\n",
       "    .dataframe tbody tr th:only-of-type {\n",
       "        vertical-align: middle;\n",
       "    }\n",
       "\n",
       "    .dataframe tbody tr th {\n",
       "        vertical-align: top;\n",
       "    }\n",
       "\n",
       "    .dataframe thead th {\n",
       "        text-align: right;\n",
       "    }\n",
       "</style>\n",
       "<table border=\"1\" class=\"dataframe\">\n",
       "  <thead>\n",
       "    <tr style=\"text-align: right;\">\n",
       "      <th></th>\n",
       "      <th>NDC Description</th>\n",
       "      <th>NDC</th>\n",
       "      <th>NADAC_Per_Unit</th>\n",
       "      <th>Effective_Date</th>\n",
       "      <th>Pricing_Unit</th>\n",
       "      <th>Pharmacy_Type_Indicator</th>\n",
       "      <th>OTC</th>\n",
       "      <th>Explanation_Code</th>\n",
       "      <th>Classification_for_Rate_Setting</th>\n",
       "      <th>Corresponding_Generic_Drug_NADAC_Per_Unit</th>\n",
       "      <th>Corresponding_Generic_Drug_Effective_Date</th>\n",
       "      <th>As of Date</th>\n",
       "    </tr>\n",
       "  </thead>\n",
       "  <tbody>\n",
       "    <tr>\n",
       "      <th>0</th>\n",
       "      <td>12HR NASAL DECONGEST ER 120 MG</td>\n",
       "      <td>24385005452</td>\n",
       "      <td>0.29366</td>\n",
       "      <td>12/22/2021</td>\n",
       "      <td>EA</td>\n",
       "      <td>C/I</td>\n",
       "      <td>Y</td>\n",
       "      <td>1</td>\n",
       "      <td>G</td>\n",
       "      <td>NaN</td>\n",
       "      <td>NaN</td>\n",
       "      <td>01/05/2022</td>\n",
       "    </tr>\n",
       "    <tr>\n",
       "      <th>1</th>\n",
       "      <td>12HR NASAL DECONGEST ER 120 MG</td>\n",
       "      <td>70000047501</td>\n",
       "      <td>0.29366</td>\n",
       "      <td>12/22/2021</td>\n",
       "      <td>EA</td>\n",
       "      <td>C/I</td>\n",
       "      <td>Y</td>\n",
       "      <td>1</td>\n",
       "      <td>G</td>\n",
       "      <td>NaN</td>\n",
       "      <td>NaN</td>\n",
       "      <td>01/05/2022</td>\n",
       "    </tr>\n",
       "    <tr>\n",
       "      <th>2</th>\n",
       "      <td>24H NASAL ALLERGY 55 MCG SPRAY</td>\n",
       "      <td>46122038576</td>\n",
       "      <td>0.78092</td>\n",
       "      <td>12/22/2021</td>\n",
       "      <td>ML</td>\n",
       "      <td>C/I</td>\n",
       "      <td>Y</td>\n",
       "      <td>1, 5</td>\n",
       "      <td>G</td>\n",
       "      <td>NaN</td>\n",
       "      <td>NaN</td>\n",
       "      <td>01/05/2022</td>\n",
       "    </tr>\n",
       "    <tr>\n",
       "      <th>3</th>\n",
       "      <td>24HR ALLERGY(LEVOCETIRZN) 5 MG</td>\n",
       "      <td>70000036201</td>\n",
       "      <td>0.19147</td>\n",
       "      <td>12/22/2021</td>\n",
       "      <td>EA</td>\n",
       "      <td>C/I</td>\n",
       "      <td>Y</td>\n",
       "      <td>1</td>\n",
       "      <td>G</td>\n",
       "      <td>NaN</td>\n",
       "      <td>NaN</td>\n",
       "      <td>01/05/2022</td>\n",
       "    </tr>\n",
       "    <tr>\n",
       "      <th>4</th>\n",
       "      <td>24HR ALLERGY(LEVOCETIRZN) 5 MG</td>\n",
       "      <td>70000036202</td>\n",
       "      <td>0.19147</td>\n",
       "      <td>12/22/2021</td>\n",
       "      <td>EA</td>\n",
       "      <td>C/I</td>\n",
       "      <td>Y</td>\n",
       "      <td>1</td>\n",
       "      <td>G</td>\n",
       "      <td>NaN</td>\n",
       "      <td>NaN</td>\n",
       "      <td>01/05/2022</td>\n",
       "    </tr>\n",
       "  </tbody>\n",
       "</table>\n",
       "</div>"
      ],
      "text/plain": [
       "                  NDC Description          NDC  NADAC_Per_Unit Effective_Date  \\\n",
       "0  12HR NASAL DECONGEST ER 120 MG  24385005452         0.29366     12/22/2021   \n",
       "1  12HR NASAL DECONGEST ER 120 MG  70000047501         0.29366     12/22/2021   \n",
       "2  24H NASAL ALLERGY 55 MCG SPRAY  46122038576         0.78092     12/22/2021   \n",
       "3  24HR ALLERGY(LEVOCETIRZN) 5 MG  70000036201         0.19147     12/22/2021   \n",
       "4  24HR ALLERGY(LEVOCETIRZN) 5 MG  70000036202         0.19147     12/22/2021   \n",
       "\n",
       "  Pricing_Unit Pharmacy_Type_Indicator OTC Explanation_Code  \\\n",
       "0           EA                     C/I   Y                1   \n",
       "1           EA                     C/I   Y                1   \n",
       "2           ML                     C/I   Y             1, 5   \n",
       "3           EA                     C/I   Y                1   \n",
       "4           EA                     C/I   Y                1   \n",
       "\n",
       "  Classification_for_Rate_Setting  Corresponding_Generic_Drug_NADAC_Per_Unit  \\\n",
       "0                               G                                        NaN   \n",
       "1                               G                                        NaN   \n",
       "2                               G                                        NaN   \n",
       "3                               G                                        NaN   \n",
       "4                               G                                        NaN   \n",
       "\n",
       "  Corresponding_Generic_Drug_Effective_Date  As of Date  \n",
       "0                                       NaN  01/05/2022  \n",
       "1                                       NaN  01/05/2022  \n",
       "2                                       NaN  01/05/2022  \n",
       "3                                       NaN  01/05/2022  \n",
       "4                                       NaN  01/05/2022  "
      ]
     },
     "execution_count": 3,
     "metadata": {},
     "output_type": "execute_result"
    }
   ],
   "source": [
    "# Display top rows\n",
    "nadacData.head()"
   ]
  },
  {
   "cell_type": "code",
   "execution_count": 4,
   "metadata": {},
   "outputs": [
    {
     "data": {
      "text/plain": [
       "(199120, 12)"
      ]
     },
     "execution_count": 4,
     "metadata": {},
     "output_type": "execute_result"
    }
   ],
   "source": [
    "# Get dataset shape\n",
    "nadacData.shape"
   ]
  },
  {
   "cell_type": "markdown",
   "metadata": {},
   "source": [
    "## **Comparison of OTC v. Non-OTC Drugs**\n",
    "This comparison involves determining the differences between the two sets of drugs in terms of count and average prices."
   ]
  },
  {
   "cell_type": "code",
   "execution_count": 5,
   "metadata": {},
   "outputs": [
    {
     "data": {
      "text/html": [
       "<div>\n",
       "<style scoped>\n",
       "    .dataframe tbody tr th:only-of-type {\n",
       "        vertical-align: middle;\n",
       "    }\n",
       "\n",
       "    .dataframe tbody tr th {\n",
       "        vertical-align: top;\n",
       "    }\n",
       "\n",
       "    .dataframe thead th {\n",
       "        text-align: right;\n",
       "    }\n",
       "</style>\n",
       "<table border=\"1\" class=\"dataframe\">\n",
       "  <thead>\n",
       "    <tr style=\"text-align: right;\">\n",
       "      <th></th>\n",
       "      <th>NDC</th>\n",
       "    </tr>\n",
       "    <tr>\n",
       "      <th>OTC</th>\n",
       "      <th></th>\n",
       "    </tr>\n",
       "  </thead>\n",
       "  <tbody>\n",
       "    <tr>\n",
       "      <th>N</th>\n",
       "      <td>178620</td>\n",
       "    </tr>\n",
       "    <tr>\n",
       "      <th>Y</th>\n",
       "      <td>20500</td>\n",
       "    </tr>\n",
       "  </tbody>\n",
       "</table>\n",
       "</div>"
      ],
      "text/plain": [
       "        NDC\n",
       "OTC        \n",
       "N    178620\n",
       "Y     20500"
      ]
     },
     "execution_count": 5,
     "metadata": {},
     "output_type": "execute_result"
    }
   ],
   "source": [
    "pd.DataFrame(nadacData.groupby('OTC')['NDC'].count())"
   ]
  },
  {
   "cell_type": "code",
   "execution_count": 6,
   "metadata": {},
   "outputs": [
    {
     "data": {
      "text/html": [
       "<div>\n",
       "<style scoped>\n",
       "    .dataframe tbody tr th:only-of-type {\n",
       "        vertical-align: middle;\n",
       "    }\n",
       "\n",
       "    .dataframe tbody tr th {\n",
       "        vertical-align: top;\n",
       "    }\n",
       "\n",
       "    .dataframe thead th {\n",
       "        text-align: right;\n",
       "    }\n",
       "</style>\n",
       "<table border=\"1\" class=\"dataframe\">\n",
       "  <thead>\n",
       "    <tr style=\"text-align: right;\">\n",
       "      <th></th>\n",
       "      <th>NADAC_Per_Unit</th>\n",
       "    </tr>\n",
       "    <tr>\n",
       "      <th>OTC</th>\n",
       "      <th></th>\n",
       "    </tr>\n",
       "  </thead>\n",
       "  <tbody>\n",
       "    <tr>\n",
       "      <th>N</th>\n",
       "      <td>11.038839</td>\n",
       "    </tr>\n",
       "    <tr>\n",
       "      <th>Y</th>\n",
       "      <td>0.370504</td>\n",
       "    </tr>\n",
       "  </tbody>\n",
       "</table>\n",
       "</div>"
      ],
      "text/plain": [
       "     NADAC_Per_Unit\n",
       "OTC                \n",
       "N         11.038839\n",
       "Y          0.370504"
      ]
     },
     "execution_count": 6,
     "metadata": {},
     "output_type": "execute_result"
    }
   ],
   "source": [
    "pd.DataFrame(nadacData.groupby('OTC')['NADAC_Per_Unit'].mean())"
   ]
  },
  {
   "cell_type": "markdown",
   "metadata": {},
   "source": [
    "#### **Observations**\n",
    "1. There are considerably more non-OTC drugs in the dataset as compared to OTC drugs. \n",
    "2. Non-OTC drugs are significantly more epensive than OTC drugs.\n"
   ]
  },
  {
   "cell_type": "markdown",
   "metadata": {},
   "source": [
    "## **Analysis of Classifications of Rate Setting**\n",
    "The Classification_of_Rate_Setting column indicates whether the NDC was considered brand (‘B’) or generic (‘G’) for the NADAC rate calculation process. If the NDC was considered brand (‘B’) and approved under an Abbreviated New Drug Application (ANDA), the indicator is shown as (‘B-ANDA’). NDCs approved as biosimilar products are considered brand (‘B’) and will be designated as (‘B-BIO’). "
   ]
  },
  {
   "cell_type": "code",
   "execution_count": 7,
   "metadata": {
    "scrolled": true
   },
   "outputs": [
    {
     "data": {
      "text/html": [
       "<div>\n",
       "<style scoped>\n",
       "    .dataframe tbody tr th:only-of-type {\n",
       "        vertical-align: middle;\n",
       "    }\n",
       "\n",
       "    .dataframe tbody tr th {\n",
       "        vertical-align: top;\n",
       "    }\n",
       "\n",
       "    .dataframe thead th {\n",
       "        text-align: right;\n",
       "    }\n",
       "</style>\n",
       "<table border=\"1\" class=\"dataframe\">\n",
       "  <thead>\n",
       "    <tr style=\"text-align: right;\">\n",
       "      <th></th>\n",
       "      <th>NADAC_Per_Unit</th>\n",
       "    </tr>\n",
       "    <tr>\n",
       "      <th>Classification_for_Rate_Setting</th>\n",
       "      <th></th>\n",
       "    </tr>\n",
       "  </thead>\n",
       "  <tbody>\n",
       "    <tr>\n",
       "      <th>B</th>\n",
       "      <td>13649</td>\n",
       "    </tr>\n",
       "    <tr>\n",
       "      <th>B-ANDA</th>\n",
       "      <td>402</td>\n",
       "    </tr>\n",
       "    <tr>\n",
       "      <th>B-BIO</th>\n",
       "      <td>1</td>\n",
       "    </tr>\n",
       "    <tr>\n",
       "      <th>G</th>\n",
       "      <td>185068</td>\n",
       "    </tr>\n",
       "  </tbody>\n",
       "</table>\n",
       "</div>"
      ],
      "text/plain": [
       "                                 NADAC_Per_Unit\n",
       "Classification_for_Rate_Setting                \n",
       "B                                         13649\n",
       "B-ANDA                                      402\n",
       "B-BIO                                         1\n",
       "G                                        185068"
      ]
     },
     "execution_count": 7,
     "metadata": {},
     "output_type": "execute_result"
    }
   ],
   "source": [
    "pd.DataFrame(nadacData.groupby('Classification_for_Rate_Setting')['NADAC_Per_Unit'].count())"
   ]
  },
  {
   "cell_type": "code",
   "execution_count": 8,
   "metadata": {},
   "outputs": [
    {
     "data": {
      "text/html": [
       "<div>\n",
       "<style scoped>\n",
       "    .dataframe tbody tr th:only-of-type {\n",
       "        vertical-align: middle;\n",
       "    }\n",
       "\n",
       "    .dataframe tbody tr th {\n",
       "        vertical-align: top;\n",
       "    }\n",
       "\n",
       "    .dataframe thead th {\n",
       "        text-align: right;\n",
       "    }\n",
       "</style>\n",
       "<table border=\"1\" class=\"dataframe\">\n",
       "  <thead>\n",
       "    <tr style=\"text-align: right;\">\n",
       "      <th></th>\n",
       "      <th>NADAC_Per_Unit</th>\n",
       "    </tr>\n",
       "    <tr>\n",
       "      <th>Classification_for_Rate_Setting</th>\n",
       "      <th></th>\n",
       "    </tr>\n",
       "  </thead>\n",
       "  <tbody>\n",
       "    <tr>\n",
       "      <th>B</th>\n",
       "      <td>125.389321</td>\n",
       "    </tr>\n",
       "    <tr>\n",
       "      <th>B-ANDA</th>\n",
       "      <td>16.895000</td>\n",
       "    </tr>\n",
       "    <tr>\n",
       "      <th>B-BIO</th>\n",
       "      <td>25.864150</td>\n",
       "    </tr>\n",
       "    <tr>\n",
       "      <th>G</th>\n",
       "      <td>1.410813</td>\n",
       "    </tr>\n",
       "  </tbody>\n",
       "</table>\n",
       "</div>"
      ],
      "text/plain": [
       "                                 NADAC_Per_Unit\n",
       "Classification_for_Rate_Setting                \n",
       "B                                    125.389321\n",
       "B-ANDA                                16.895000\n",
       "B-BIO                                 25.864150\n",
       "G                                      1.410813"
      ]
     },
     "execution_count": 8,
     "metadata": {},
     "output_type": "execute_result"
    }
   ],
   "source": [
    "pd.DataFrame(nadacData.groupby('Classification_for_Rate_Setting')['NADAC_Per_Unit'].mean())"
   ]
  },
  {
   "cell_type": "code",
   "execution_count": 9,
   "metadata": {
    "scrolled": true
   },
   "outputs": [
    {
     "data": {
      "text/plain": [
       "<matplotlib.axes._subplots.AxesSubplot at 0x7fc97ab219e8>"
      ]
     },
     "execution_count": 9,
     "metadata": {},
     "output_type": "execute_result"
    },
    {
     "data": {
      "image/png": "[encoded data removed]",
      "text/plain": [
       "<Figure size 432x288 with 1 Axes>"
      ]
     },
     "metadata": {
      "needs_background": "light"
     },
     "output_type": "display_data"
    }
   ],
   "source": [
    "# Histogram to show the distribution of values for the 'NDC' column\n",
    "nadacData.groupby(['Classification_for_Rate_Setting'])['NADAC_Per_Unit'].mean().plot.line()"
   ]
  },
  {
   "cell_type": "markdown",
   "metadata": {},
   "source": [
    "#### **Observations**\n",
    "1. There are considerably more Generic drugs in the dataset than all the other classifications combined.\n",
    "2. There is a noteable difference between the prices of Brand drugs (most epensive) and Generic drugs (cheapest).\n"
   ]
  },
  {
   "cell_type": "markdown",
   "metadata": {},
   "source": [
    "# **State Drug Utilization Data Analysis**"
   ]
  },
  {
   "cell_type": "code",
   "execution_count": 10,
   "metadata": {},
   "outputs": [],
   "source": [
    "# Read data from source file\n",
    "utilData = pd.read_csv('DrugUtilization2021.csv')"
   ]
  },
  {
   "cell_type": "code",
   "execution_count": 11,
   "metadata": {},
   "outputs": [
    {
     "data": {
      "text/html": [
       "<div>\n",
       "<style scoped>\n",
       "    .dataframe tbody tr th:only-of-type {\n",
       "        vertical-align: middle;\n",
       "    }\n",
       "\n",
       "    .dataframe tbody tr th {\n",
       "        vertical-align: top;\n",
       "    }\n",
       "\n",
       "    .dataframe thead th {\n",
       "        text-align: right;\n",
       "    }\n",
       "</style>\n",
       "<table border=\"1\" class=\"dataframe\">\n",
       "  <thead>\n",
       "    <tr style=\"text-align: right;\">\n",
       "      <th></th>\n",
       "      <th>utilization_type</th>\n",
       "      <th>state</th>\n",
       "      <th>ndc</th>\n",
       "      <th>labeler_code</th>\n",
       "      <th>product_code</th>\n",
       "      <th>package_size</th>\n",
       "      <th>year</th>\n",
       "      <th>quarter</th>\n",
       "      <th>suppression_used</th>\n",
       "      <th>product_name</th>\n",
       "      <th>units_reimbursed</th>\n",
       "      <th>number_of_prescriptions</th>\n",
       "      <th>total_amount_reimbursed</th>\n",
       "      <th>medicaid_amount_reimbursed</th>\n",
       "      <th>non_medicaid_amount_reimbursed</th>\n",
       "    </tr>\n",
       "  </thead>\n",
       "  <tbody>\n",
       "    <tr>\n",
       "      <th>0</th>\n",
       "      <td>FFSU</td>\n",
       "      <td>AK</td>\n",
       "      <td>2143380</td>\n",
       "      <td>2</td>\n",
       "      <td>1433</td>\n",
       "      <td>80</td>\n",
       "      <td>2021</td>\n",
       "      <td>4</td>\n",
       "      <td>False</td>\n",
       "      <td>TRULICITY</td>\n",
       "      <td>552.0</td>\n",
       "      <td>225.0</td>\n",
       "      <td>223223.83</td>\n",
       "      <td>218738.63</td>\n",
       "      <td>4485.20</td>\n",
       "    </tr>\n",
       "    <tr>\n",
       "      <th>1</th>\n",
       "      <td>FFSU</td>\n",
       "      <td>AK</td>\n",
       "      <td>2143480</td>\n",
       "      <td>2</td>\n",
       "      <td>1434</td>\n",
       "      <td>80</td>\n",
       "      <td>2021</td>\n",
       "      <td>4</td>\n",
       "      <td>False</td>\n",
       "      <td>TRULICITY</td>\n",
       "      <td>714.0</td>\n",
       "      <td>277.0</td>\n",
       "      <td>289795.80</td>\n",
       "      <td>284447.68</td>\n",
       "      <td>5348.12</td>\n",
       "    </tr>\n",
       "    <tr>\n",
       "      <th>2</th>\n",
       "      <td>FFSU</td>\n",
       "      <td>AK</td>\n",
       "      <td>2143611</td>\n",
       "      <td>2</td>\n",
       "      <td>1436</td>\n",
       "      <td>11</td>\n",
       "      <td>2021</td>\n",
       "      <td>4</td>\n",
       "      <td>False</td>\n",
       "      <td>EMGALITY P</td>\n",
       "      <td>27.0</td>\n",
       "      <td>27.0</td>\n",
       "      <td>16648.52</td>\n",
       "      <td>16648.52</td>\n",
       "      <td>0.00</td>\n",
       "    </tr>\n",
       "    <tr>\n",
       "      <th>3</th>\n",
       "      <td>FFSU</td>\n",
       "      <td>AK</td>\n",
       "      <td>2144509</td>\n",
       "      <td>2</td>\n",
       "      <td>1445</td>\n",
       "      <td>9</td>\n",
       "      <td>2021</td>\n",
       "      <td>4</td>\n",
       "      <td>True</td>\n",
       "      <td>TALTZ AUTO</td>\n",
       "      <td>NaN</td>\n",
       "      <td>NaN</td>\n",
       "      <td>NaN</td>\n",
       "      <td>NaN</td>\n",
       "      <td>NaN</td>\n",
       "    </tr>\n",
       "    <tr>\n",
       "      <th>4</th>\n",
       "      <td>FFSU</td>\n",
       "      <td>AK</td>\n",
       "      <td>2144511</td>\n",
       "      <td>2</td>\n",
       "      <td>1445</td>\n",
       "      <td>11</td>\n",
       "      <td>2021</td>\n",
       "      <td>4</td>\n",
       "      <td>False</td>\n",
       "      <td>TALTZ AUTO</td>\n",
       "      <td>14.0</td>\n",
       "      <td>14.0</td>\n",
       "      <td>83578.05</td>\n",
       "      <td>72671.03</td>\n",
       "      <td>10907.02</td>\n",
       "    </tr>\n",
       "  </tbody>\n",
       "</table>\n",
       "</div>"
      ],
      "text/plain": [
       "  utilization_type state      ndc  labeler_code  product_code  package_size  \\\n",
       "0             FFSU    AK  2143380             2          1433            80   \n",
       "1             FFSU    AK  2143480             2          1434            80   \n",
       "2             FFSU    AK  2143611             2          1436            11   \n",
       "3             FFSU    AK  2144509             2          1445             9   \n",
       "4             FFSU    AK  2144511             2          1445            11   \n",
       "\n",
       "   year  quarter  suppression_used product_name  units_reimbursed  \\\n",
       "0  2021        4             False   TRULICITY              552.0   \n",
       "1  2021        4             False   TRULICITY              714.0   \n",
       "2  2021        4             False   EMGALITY P              27.0   \n",
       "3  2021        4              True   TALTZ AUTO               NaN   \n",
       "4  2021        4             False   TALTZ AUTO              14.0   \n",
       "\n",
       "   number_of_prescriptions  total_amount_reimbursed  \\\n",
       "0                    225.0                223223.83   \n",
       "1                    277.0                289795.80   \n",
       "2                     27.0                 16648.52   \n",
       "3                      NaN                      NaN   \n",
       "4                     14.0                 83578.05   \n",
       "\n",
       "   medicaid_amount_reimbursed  non_medicaid_amount_reimbursed  \n",
       "0                   218738.63                         4485.20  \n",
       "1                   284447.68                         5348.12  \n",
       "2                    16648.52                            0.00  \n",
       "3                         NaN                             NaN  \n",
       "4                    72671.03                        10907.02  "
      ]
     },
     "execution_count": 11,
     "metadata": {},
     "output_type": "execute_result"
    }
   ],
   "source": [
    "# Display top rows\n",
    "utilData.head()"
   ]
  },
  {
   "cell_type": "code",
   "execution_count": 12,
   "metadata": {},
   "outputs": [
    {
     "data": {
      "text/plain": [
       "(122025, 15)"
      ]
     },
     "execution_count": 12,
     "metadata": {},
     "output_type": "execute_result"
    }
   ],
   "source": [
    "# Display dataset shape\n",
    "utilData.shape"
   ]
  },
  {
   "cell_type": "code",
   "execution_count": 13,
   "metadata": {},
   "outputs": [],
   "source": [
    "# Remove columns which will not be used in analysis\n",
    "toDrop = [\n",
    "    'labeler_code', \n",
    "    'product_code', \n",
    "    'package_size',\n",
    "    'year',\n",
    "    'suppression_used',\n",
    "    'product_name'\n",
    "]\n",
    "\n",
    "utilData = utilData.drop(columns=toDrop)\n",
    "\n",
    "# Rename 'ndc' column in utilData to 'NDC' to match corresponding column name in nadacData\n",
    "utilData = utilData.rename(columns={'ndc': 'NDC'})"
   ]
  },
  {
   "cell_type": "code",
   "execution_count": 14,
   "metadata": {
    "scrolled": true
   },
   "outputs": [
    {
     "data": {
      "text/html": [
       "<div>\n",
       "<style scoped>\n",
       "    .dataframe tbody tr th:only-of-type {\n",
       "        vertical-align: middle;\n",
       "    }\n",
       "\n",
       "    .dataframe tbody tr th {\n",
       "        vertical-align: top;\n",
       "    }\n",
       "\n",
       "    .dataframe thead th {\n",
       "        text-align: right;\n",
       "    }\n",
       "</style>\n",
       "<table border=\"1\" class=\"dataframe\">\n",
       "  <thead>\n",
       "    <tr style=\"text-align: right;\">\n",
       "      <th></th>\n",
       "      <th>utilization_type</th>\n",
       "      <th>state</th>\n",
       "      <th>NDC</th>\n",
       "      <th>quarter</th>\n",
       "      <th>units_reimbursed</th>\n",
       "      <th>number_of_prescriptions</th>\n",
       "      <th>total_amount_reimbursed</th>\n",
       "      <th>medicaid_amount_reimbursed</th>\n",
       "      <th>non_medicaid_amount_reimbursed</th>\n",
       "    </tr>\n",
       "  </thead>\n",
       "  <tbody>\n",
       "    <tr>\n",
       "      <th>0</th>\n",
       "      <td>FFSU</td>\n",
       "      <td>AK</td>\n",
       "      <td>2143380</td>\n",
       "      <td>4</td>\n",
       "      <td>552.0</td>\n",
       "      <td>225.0</td>\n",
       "      <td>223223.83</td>\n",
       "      <td>218738.63</td>\n",
       "      <td>4485.20</td>\n",
       "    </tr>\n",
       "    <tr>\n",
       "      <th>1</th>\n",
       "      <td>FFSU</td>\n",
       "      <td>AK</td>\n",
       "      <td>2143480</td>\n",
       "      <td>4</td>\n",
       "      <td>714.0</td>\n",
       "      <td>277.0</td>\n",
       "      <td>289795.80</td>\n",
       "      <td>284447.68</td>\n",
       "      <td>5348.12</td>\n",
       "    </tr>\n",
       "    <tr>\n",
       "      <th>2</th>\n",
       "      <td>FFSU</td>\n",
       "      <td>AK</td>\n",
       "      <td>2143611</td>\n",
       "      <td>4</td>\n",
       "      <td>27.0</td>\n",
       "      <td>27.0</td>\n",
       "      <td>16648.52</td>\n",
       "      <td>16648.52</td>\n",
       "      <td>0.00</td>\n",
       "    </tr>\n",
       "    <tr>\n",
       "      <th>3</th>\n",
       "      <td>FFSU</td>\n",
       "      <td>AK</td>\n",
       "      <td>2144509</td>\n",
       "      <td>4</td>\n",
       "      <td>NaN</td>\n",
       "      <td>NaN</td>\n",
       "      <td>NaN</td>\n",
       "      <td>NaN</td>\n",
       "      <td>NaN</td>\n",
       "    </tr>\n",
       "    <tr>\n",
       "      <th>4</th>\n",
       "      <td>FFSU</td>\n",
       "      <td>AK</td>\n",
       "      <td>2144511</td>\n",
       "      <td>4</td>\n",
       "      <td>14.0</td>\n",
       "      <td>14.0</td>\n",
       "      <td>83578.05</td>\n",
       "      <td>72671.03</td>\n",
       "      <td>10907.02</td>\n",
       "    </tr>\n",
       "  </tbody>\n",
       "</table>\n",
       "</div>"
      ],
      "text/plain": [
       "  utilization_type state      NDC  quarter  units_reimbursed  \\\n",
       "0             FFSU    AK  2143380        4             552.0   \n",
       "1             FFSU    AK  2143480        4             714.0   \n",
       "2             FFSU    AK  2143611        4              27.0   \n",
       "3             FFSU    AK  2144509        4               NaN   \n",
       "4             FFSU    AK  2144511        4              14.0   \n",
       "\n",
       "   number_of_prescriptions  total_amount_reimbursed  \\\n",
       "0                    225.0                223223.83   \n",
       "1                    277.0                289795.80   \n",
       "2                     27.0                 16648.52   \n",
       "3                      NaN                      NaN   \n",
       "4                     14.0                 83578.05   \n",
       "\n",
       "   medicaid_amount_reimbursed  non_medicaid_amount_reimbursed  \n",
       "0                   218738.63                         4485.20  \n",
       "1                   284447.68                         5348.12  \n",
       "2                    16648.52                            0.00  \n",
       "3                         NaN                             NaN  \n",
       "4                    72671.03                        10907.02  "
      ]
     },
     "execution_count": 14,
     "metadata": {},
     "output_type": "execute_result"
    }
   ],
   "source": [
    "# Note the result of the drop and rename operations\n",
    "utilData.head()"
   ]
  },
  {
   "cell_type": "code",
   "execution_count": 15,
   "metadata": {},
   "outputs": [],
   "source": [
    "joinedData = nadacData.set_index('NDC').join(utilData.set_index('NDC'), how='inner', on='NDC')"
   ]
  },
  {
   "cell_type": "code",
   "execution_count": 16,
   "metadata": {},
   "outputs": [
    {
     "data": {
      "text/html": [
       "<div>\n",
       "<style scoped>\n",
       "    .dataframe tbody tr th:only-of-type {\n",
       "        vertical-align: middle;\n",
       "    }\n",
       "\n",
       "    .dataframe tbody tr th {\n",
       "        vertical-align: top;\n",
       "    }\n",
       "\n",
       "    .dataframe thead th {\n",
       "        text-align: right;\n",
       "    }\n",
       "</style>\n",
       "<table border=\"1\" class=\"dataframe\">\n",
       "  <thead>\n",
       "    <tr style=\"text-align: right;\">\n",
       "      <th></th>\n",
       "      <th>NDC Description</th>\n",
       "      <th>NADAC_Per_Unit</th>\n",
       "      <th>Effective_Date</th>\n",
       "      <th>Pricing_Unit</th>\n",
       "      <th>Pharmacy_Type_Indicator</th>\n",
       "      <th>OTC</th>\n",
       "      <th>Explanation_Code</th>\n",
       "      <th>Classification_for_Rate_Setting</th>\n",
       "      <th>Corresponding_Generic_Drug_NADAC_Per_Unit</th>\n",
       "      <th>Corresponding_Generic_Drug_Effective_Date</th>\n",
       "      <th>As of Date</th>\n",
       "      <th>utilization_type</th>\n",
       "      <th>state</th>\n",
       "      <th>quarter</th>\n",
       "      <th>units_reimbursed</th>\n",
       "      <th>number_of_prescriptions</th>\n",
       "      <th>total_amount_reimbursed</th>\n",
       "      <th>medicaid_amount_reimbursed</th>\n",
       "      <th>non_medicaid_amount_reimbursed</th>\n",
       "    </tr>\n",
       "    <tr>\n",
       "      <th>NDC</th>\n",
       "      <th></th>\n",
       "      <th></th>\n",
       "      <th></th>\n",
       "      <th></th>\n",
       "      <th></th>\n",
       "      <th></th>\n",
       "      <th></th>\n",
       "      <th></th>\n",
       "      <th></th>\n",
       "      <th></th>\n",
       "      <th></th>\n",
       "      <th></th>\n",
       "      <th></th>\n",
       "      <th></th>\n",
       "      <th></th>\n",
       "      <th></th>\n",
       "      <th></th>\n",
       "      <th></th>\n",
       "      <th></th>\n",
       "    </tr>\n",
       "  </thead>\n",
       "  <tbody>\n",
       "    <tr>\n",
       "      <th>378410591</th>\n",
       "      <td>ABACAVIR 300 MG TABLET</td>\n",
       "      <td>0.43924</td>\n",
       "      <td>12/22/2021</td>\n",
       "      <td>EA</td>\n",
       "      <td>C/I</td>\n",
       "      <td>N</td>\n",
       "      <td>1</td>\n",
       "      <td>G</td>\n",
       "      <td>NaN</td>\n",
       "      <td>NaN</td>\n",
       "      <td>01/05/2022</td>\n",
       "      <td>FFSU</td>\n",
       "      <td>AL</td>\n",
       "      <td>4</td>\n",
       "      <td>NaN</td>\n",
       "      <td>NaN</td>\n",
       "      <td>NaN</td>\n",
       "      <td>NaN</td>\n",
       "      <td>NaN</td>\n",
       "    </tr>\n",
       "    <tr>\n",
       "      <th>378410591</th>\n",
       "      <td>ABACAVIR 300 MG TABLET</td>\n",
       "      <td>0.43924</td>\n",
       "      <td>12/22/2021</td>\n",
       "      <td>EA</td>\n",
       "      <td>C/I</td>\n",
       "      <td>N</td>\n",
       "      <td>1</td>\n",
       "      <td>G</td>\n",
       "      <td>NaN</td>\n",
       "      <td>NaN</td>\n",
       "      <td>01/05/2022</td>\n",
       "      <td>FFSU</td>\n",
       "      <td>AL</td>\n",
       "      <td>3</td>\n",
       "      <td>NaN</td>\n",
       "      <td>NaN</td>\n",
       "      <td>NaN</td>\n",
       "      <td>NaN</td>\n",
       "      <td>NaN</td>\n",
       "    </tr>\n",
       "    <tr>\n",
       "      <th>378410591</th>\n",
       "      <td>ABACAVIR 300 MG TABLET</td>\n",
       "      <td>0.43924</td>\n",
       "      <td>12/22/2021</td>\n",
       "      <td>EA</td>\n",
       "      <td>C/I</td>\n",
       "      <td>N</td>\n",
       "      <td>1</td>\n",
       "      <td>G</td>\n",
       "      <td>NaN</td>\n",
       "      <td>NaN</td>\n",
       "      <td>01/05/2022</td>\n",
       "      <td>FFSU</td>\n",
       "      <td>AL</td>\n",
       "      <td>2</td>\n",
       "      <td>NaN</td>\n",
       "      <td>NaN</td>\n",
       "      <td>NaN</td>\n",
       "      <td>NaN</td>\n",
       "      <td>NaN</td>\n",
       "    </tr>\n",
       "    <tr>\n",
       "      <th>378410591</th>\n",
       "      <td>ABACAVIR 300 MG TABLET</td>\n",
       "      <td>0.43924</td>\n",
       "      <td>12/22/2021</td>\n",
       "      <td>EA</td>\n",
       "      <td>C/I</td>\n",
       "      <td>N</td>\n",
       "      <td>1</td>\n",
       "      <td>G</td>\n",
       "      <td>NaN</td>\n",
       "      <td>NaN</td>\n",
       "      <td>01/05/2022</td>\n",
       "      <td>FFSU</td>\n",
       "      <td>AL</td>\n",
       "      <td>1</td>\n",
       "      <td>NaN</td>\n",
       "      <td>NaN</td>\n",
       "      <td>NaN</td>\n",
       "      <td>NaN</td>\n",
       "      <td>NaN</td>\n",
       "    </tr>\n",
       "    <tr>\n",
       "      <th>378410591</th>\n",
       "      <td>ABACAVIR 300 MG TABLET</td>\n",
       "      <td>0.43924</td>\n",
       "      <td>12/22/2021</td>\n",
       "      <td>EA</td>\n",
       "      <td>C/I</td>\n",
       "      <td>N</td>\n",
       "      <td>1</td>\n",
       "      <td>G</td>\n",
       "      <td>NaN</td>\n",
       "      <td>NaN</td>\n",
       "      <td>01/05/2022</td>\n",
       "      <td>FFSU</td>\n",
       "      <td>AR</td>\n",
       "      <td>4</td>\n",
       "      <td>NaN</td>\n",
       "      <td>NaN</td>\n",
       "      <td>NaN</td>\n",
       "      <td>NaN</td>\n",
       "      <td>NaN</td>\n",
       "    </tr>\n",
       "  </tbody>\n",
       "</table>\n",
       "</div>"
      ],
      "text/plain": [
       "                  NDC Description  NADAC_Per_Unit Effective_Date Pricing_Unit  \\\n",
       "NDC                                                                             \n",
       "378410591  ABACAVIR 300 MG TABLET         0.43924     12/22/2021           EA   \n",
       "378410591  ABACAVIR 300 MG TABLET         0.43924     12/22/2021           EA   \n",
       "378410591  ABACAVIR 300 MG TABLET         0.43924     12/22/2021           EA   \n",
       "378410591  ABACAVIR 300 MG TABLET         0.43924     12/22/2021           EA   \n",
       "378410591  ABACAVIR 300 MG TABLET         0.43924     12/22/2021           EA   \n",
       "\n",
       "          Pharmacy_Type_Indicator OTC Explanation_Code  \\\n",
       "NDC                                                      \n",
       "378410591                     C/I   N                1   \n",
       "378410591                     C/I   N                1   \n",
       "378410591                     C/I   N                1   \n",
       "378410591                     C/I   N                1   \n",
       "378410591                     C/I   N                1   \n",
       "\n",
       "          Classification_for_Rate_Setting  \\\n",
       "NDC                                         \n",
       "378410591                               G   \n",
       "378410591                               G   \n",
       "378410591                               G   \n",
       "378410591                               G   \n",
       "378410591                               G   \n",
       "\n",
       "           Corresponding_Generic_Drug_NADAC_Per_Unit  \\\n",
       "NDC                                                    \n",
       "378410591                                        NaN   \n",
       "378410591                                        NaN   \n",
       "378410591                                        NaN   \n",
       "378410591                                        NaN   \n",
       "378410591                                        NaN   \n",
       "\n",
       "          Corresponding_Generic_Drug_Effective_Date  As of Date  \\\n",
       "NDC                                                               \n",
       "378410591                                       NaN  01/05/2022   \n",
       "378410591                                       NaN  01/05/2022   \n",
       "378410591                                       NaN  01/05/2022   \n",
       "378410591                                       NaN  01/05/2022   \n",
       "378410591                                       NaN  01/05/2022   \n",
       "\n",
       "          utilization_type state  quarter  units_reimbursed  \\\n",
       "NDC                                                           \n",
       "378410591             FFSU    AL        4               NaN   \n",
       "378410591             FFSU    AL        3               NaN   \n",
       "378410591             FFSU    AL        2               NaN   \n",
       "378410591             FFSU    AL        1               NaN   \n",
       "378410591             FFSU    AR        4               NaN   \n",
       "\n",
       "           number_of_prescriptions  total_amount_reimbursed  \\\n",
       "NDC                                                           \n",
       "378410591                      NaN                      NaN   \n",
       "378410591                      NaN                      NaN   \n",
       "378410591                      NaN                      NaN   \n",
       "378410591                      NaN                      NaN   \n",
       "378410591                      NaN                      NaN   \n",
       "\n",
       "           medicaid_amount_reimbursed  non_medicaid_amount_reimbursed  \n",
       "NDC                                                                    \n",
       "378410591                         NaN                             NaN  \n",
       "378410591                         NaN                             NaN  \n",
       "378410591                         NaN                             NaN  \n",
       "378410591                         NaN                             NaN  \n",
       "378410591                         NaN                             NaN  "
      ]
     },
     "execution_count": 16,
     "metadata": {},
     "output_type": "execute_result"
    }
   ],
   "source": [
    "joinedData.head()"
   ]
  },
  {
   "cell_type": "markdown",
   "metadata": {},
   "source": [
    "#### **OTC-Prescription Relationship**\n",
    "The combined data allows for investigating whether a drug being OTC affects how many times it is prescribed."
   ]
  },
  {
   "cell_type": "code",
   "execution_count": 17,
   "metadata": {},
   "outputs": [
    {
     "data": {
      "text/html": [
       "<div>\n",
       "<style scoped>\n",
       "    .dataframe tbody tr th:only-of-type {\n",
       "        vertical-align: middle;\n",
       "    }\n",
       "\n",
       "    .dataframe tbody tr th {\n",
       "        vertical-align: top;\n",
       "    }\n",
       "\n",
       "    .dataframe thead th {\n",
       "        text-align: right;\n",
       "    }\n",
       "</style>\n",
       "<table border=\"1\" class=\"dataframe\">\n",
       "  <thead>\n",
       "    <tr style=\"text-align: right;\">\n",
       "      <th></th>\n",
       "      <th>number_of_prescriptions</th>\n",
       "    </tr>\n",
       "    <tr>\n",
       "      <th>OTC</th>\n",
       "      <th></th>\n",
       "    </tr>\n",
       "  </thead>\n",
       "  <tbody>\n",
       "    <tr>\n",
       "      <th>N</th>\n",
       "      <td>169.825223</td>\n",
       "    </tr>\n",
       "    <tr>\n",
       "      <th>Y</th>\n",
       "      <td>334.050108</td>\n",
       "    </tr>\n",
       "  </tbody>\n",
       "</table>\n",
       "</div>"
      ],
      "text/plain": [
       "     number_of_prescriptions\n",
       "OTC                         \n",
       "N                 169.825223\n",
       "Y                 334.050108"
      ]
     },
     "execution_count": 17,
     "metadata": {},
     "output_type": "execute_result"
    }
   ],
   "source": [
    "pd.DataFrame(joinedData.groupby(['OTC'])['number_of_prescriptions'].mean())"
   ]
  },
  {
   "cell_type": "markdown",
   "metadata": {},
   "source": [
    "#### **Observation**\n",
    "OTC drugs are prescribed about twice as much as non-OTC drugs."
   ]
  },
  {
   "cell_type": "markdown",
   "metadata": {},
   "source": [
    "#### **Correlation between Utilization Type and NADAC per Unit**\n",
    "The combined data allows for investigating the relationship between utilization type and NADAC per unit.\n",
    "FFSU stands for Fee-For-Service Utilization\n",
    "MCOU stands for Managed Care Organization Utilization"
   ]
  },
  {
   "cell_type": "code",
   "execution_count": 18,
   "metadata": {},
   "outputs": [
    {
     "data": {
      "text/html": [
       "<div>\n",
       "<style scoped>\n",
       "    .dataframe tbody tr th:only-of-type {\n",
       "        vertical-align: middle;\n",
       "    }\n",
       "\n",
       "    .dataframe tbody tr th {\n",
       "        vertical-align: top;\n",
       "    }\n",
       "\n",
       "    .dataframe thead th {\n",
       "        text-align: right;\n",
       "    }\n",
       "</style>\n",
       "<table border=\"1\" class=\"dataframe\">\n",
       "  <thead>\n",
       "    <tr style=\"text-align: right;\">\n",
       "      <th></th>\n",
       "      <th>NADAC_Per_Unit</th>\n",
       "    </tr>\n",
       "    <tr>\n",
       "      <th>utilization_type</th>\n",
       "      <th></th>\n",
       "    </tr>\n",
       "  </thead>\n",
       "  <tbody>\n",
       "    <tr>\n",
       "      <th>FFSU</th>\n",
       "      <td>17.417098</td>\n",
       "    </tr>\n",
       "    <tr>\n",
       "      <th>MCOU</th>\n",
       "      <td>21.083569</td>\n",
       "    </tr>\n",
       "  </tbody>\n",
       "</table>\n",
       "</div>"
      ],
      "text/plain": [
       "                  NADAC_Per_Unit\n",
       "utilization_type                \n",
       "FFSU                   17.417098\n",
       "MCOU                   21.083569"
      ]
     },
     "execution_count": 18,
     "metadata": {},
     "output_type": "execute_result"
    }
   ],
   "source": [
    "pd.DataFrame(joinedData.groupby(['utilization_type'])['NADAC_Per_Unit'].mean())"
   ]
  },
  {
   "cell_type": "markdown",
   "metadata": {},
   "source": [
    "#### **Observation**\n",
    "MCOU is associated with slightly more expensive drugs than FFSU."
   ]
  },
  {
   "cell_type": "markdown",
   "metadata": {},
   "source": [
    "#### **Analysis from Data Visualization**\n",
    "Graphs can sometimes reveal an aspect of data that may be hidden when only observing numbers."
   ]
  },
  {
   "cell_type": "code",
   "execution_count": 19,
   "metadata": {},
   "outputs": [],
   "source": [
    "df = pd.DataFrame(\n",
    "    joinedData.groupby(\n",
    "        [\n",
    "            'utilization_type', \n",
    "            'OTC'\n",
    "        ]\n",
    "    )['total_amount_reimbursed'].mean()\n",
    ")\n",
    "df = df.reset_index()\n",
    "pivoted = df.pivot(index='utilization_type', columns='OTC', values='total_amount_reimbursed')"
   ]
  },
  {
   "cell_type": "code",
   "execution_count": 20,
   "metadata": {},
   "outputs": [
    {
     "data": {
      "text/plain": [
       "<matplotlib.axes._subplots.AxesSubplot at 0x7fc9775c1eb8>"
      ]
     },
     "execution_count": 20,
     "metadata": {},
     "output_type": "execute_result"
    },
    {
     "data": {
      "image/png": "[encoded data removed]",
      "text/plain": [
       "<Figure size 432x288 with 1 Axes>"
      ]
     },
     "metadata": {
      "needs_background": "light"
     },
     "output_type": "display_data"
    }
   ],
   "source": [
    "pivoted.plot.bar()"
   ]
  },
  {
   "cell_type": "markdown",
   "metadata": {},
   "source": [
    "#### **Observation**\n",
    "The total amount reimbursed for OTC drugs in FFSU and MCOU is relatively low."
   ]
  },
  {
   "cell_type": "markdown",
   "metadata": {},
   "source": [
    "\n",
    "\n",
    "---\n",
    "\n",
    "\n",
    "\n",
    "## Submitting Your Work\n",
    "\n",
    "In order to submit your work, you'll need to use the `git` command line program to **add** your homework file (this file) to your local repository, **commit** your changes to your local repository, and then **push** those changes up to github.com.  From there, I'll be able to **pull** the changes down and do my grading.  I'll provide some feedback, **commit** and **push** my comments back to you.  Next week, I'll show you how to **pull** down my comments.\n",
    "\n",
    "To run through everything one last time and submit your work:\n",
    "1. Use the `Kernel` -> `Restart Kernel and Run All Cells` menu option to run everything from top to bottom and stop here.\n",
    "2. Follow the instruction on the prompt below to either ssave and submit your work, or continue working.\n",
    "\n",
    "If anything fails along the way with this submission part of the process, let me know.  I'll help you troubleshoort."
   ]
  },
  {
   "cell_type": "code",
   "execution_count": 21,
   "metadata": {},
   "outputs": [
    {
     "name": "stdin",
     "output_type": "stream",
     "text": [
      "\n",
      "Are you ready to submit your work?\n",
      "1. Click the Save icon (or do Ctrl-S / Cmd-S)\n",
      "2. Type \"yes\" or \"no\" below\n",
      "3. Press Enter\n",
      "\n",
      " yes\n"
     ]
    },
    {
     "name": "stdout",
     "output_type": "stream",
     "text": [
      "[main 6ba01cb] Submitting the final project\n",
      " 3 files changed, 322638 insertions(+)\n",
      " create mode 100644 final/DrugUtilization2021.csv\n",
      " create mode 100644 final/final_project.ipynb\n",
      " create mode 100644 final/nadac-national-average-drug-acquisition-cost-02-23-2022.csv\n",
      "Counting objects: 6, done.\n",
      "Delta compression using up to 2 threads.\n",
      "Compressing objects: 100% (6/6), done.\n",
      "Writing objects: 100% (6/6), 4.01 MiB | 3.75 MiB/s, done.\n",
      "Total 6 (delta 1), reused 0 (delta 0)\n",
      "remote: Resolving deltas: 100% (1/1), completed with 1 local object.\u001b[K\n",
      "To github.com:sharmapallvi/hds5210-2022.git\n",
      "   8f79a82..6ba01cb  main -> main\n"
     ]
    }
   ],
   "source": [
    "a=input('''\n",
    "Are you ready to submit your work?\n",
    "1. Click the Save icon (or do Ctrl-S / Cmd-S)\n",
    "2. Type \"yes\" or \"no\" below\n",
    "3. Press Enter\n",
    "\n",
    "''')\n",
    "\n",
    "if a=='yes':\n",
    "    !git add .\n",
    "    !git commit -a -m \"Submitting the final project\"\n",
    "    !git push\n",
    "else:\n",
    "    print('''\n",
    "    \n",
    "OK. We can wait.\n",
    "''')\n"
   ]
  },
  {
   "cell_type": "code",
   "execution_count": null,
   "metadata": {},
   "outputs": [],
   "source": []
  }
 ],
 "metadata": {
  "kernelspec": {
   "display_name": "Python 3",
   "language": "python",
   "name": "python3"
  },
  "language_info": {
   "codemirror_mode": {
    "name": "ipython",
    "version": 3
   },
   "file_extension": ".py",
   "mimetype": "text/x-python",
   "name": "python",
   "nbconvert_exporter": "python",
   "pygments_lexer": "ipython3",
   "version": "3.6.7"
  }
 },
 "nbformat": 4,
 "nbformat_minor": 4
}
